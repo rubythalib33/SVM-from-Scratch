{
  "nbformat": 4,
  "nbformat_minor": 0,
  "metadata": {
    "colab": {
      "name": "SVM from scratch.ipynb",
      "provenance": [],
      "collapsed_sections": []
    },
    "kernelspec": {
      "name": "python3",
      "display_name": "Python 3"
    }
  },
  "cells": [
    {
      "cell_type": "markdown",
      "metadata": {
        "id": "_w8eTUELBsU8",
        "colab_type": "text"
      },
      "source": [
        "Thank You Madhu Sanjeevi for the lesson"
      ]
    },
    {
      "cell_type": "code",
      "metadata": {
        "id": "wF_mZVFfBnu5",
        "colab_type": "code",
        "colab": {}
      },
      "source": [
        "import numpy as np\n",
        "import matplotlib.pyplot as plt\n",
        "from sklearn.datasets.samples_generator import make_blobs\n",
        "%matplotlib inline"
      ],
      "execution_count": 0,
      "outputs": []
    },
    {
      "cell_type": "code",
      "metadata": {
        "id": "kfF4d_lBCH-0",
        "colab_type": "code",
        "colab": {
          "base_uri": "https://localhost:8080/",
          "height": 265
        },
        "outputId": "ba220027-81c5-4fa8-9110-f27267feaa6a"
      },
      "source": [
        "(X,y) = make_blobs(n_samples=50, n_features=2,centers=2,cluster_std=1.05,random_state=40)\n",
        "X1 = np.c_[np.ones(X.shape[0]),X]\n",
        "\n",
        "plt.scatter(X1[:,1],X1[:,2],marker='o',c=y)\n",
        "plt.axis([-5,10,-12,-1])\n",
        "plt.show()"
      ],
      "execution_count": 7,
      "outputs": [
        {
          "output_type": "display_data",
          "data": {
            "image/png": "[encoded data removed]",
            "text/plain": [
              "<Figure size 432x288 with 1 Axes>"
            ]
          },
          "metadata": {
            "tags": []
          }
        }
      ]
    },
    {
      "cell_type": "code",
      "metadata": {
        "id": "7QLGgVazDyJx",
        "colab_type": "code",
        "colab": {}
      },
      "source": [
        "positifX=[]\n",
        "negatifX=[]\n",
        "for i,value in enumerate(y):\n",
        "  if value==0:\n",
        "    negatifX.append(X[i])\n",
        "  else:\n",
        "    positifX.append(X[i])\n",
        "\n",
        "data_dict= {-1:np.array(negatifX), 1:np.array(positifX)}"
      ],
      "execution_count": 0,
      "outputs": []
    },
    {
      "cell_type": "code",
      "metadata": {
        "id": "40aFkG5fEnNZ",
        "colab_type": "code",
        "colab": {}
      },
      "source": [
        "weight=[]\n",
        "bias=[]\n",
        "\n",
        "max_feature_value=float('-inf')\n",
        "min_feature_value=float('+inf')\n",
        "\n",
        "for yi in data_dict:\n",
        "  if np.amax(data_dict[yi]) > max_feature_value:\n",
        "    max_feature_value=np.amax(data_dict[yi])\n",
        "  if np.amin(data_dict[yi]) < min_feature_value:\n",
        "    min_feature_value=np.amin(data_dict[yi])\n",
        "\n",
        "learning_rate = [max_feature_value * 0.1, max_feature_value * 0.01, max_feature_value * 0.001]"
      ],
      "execution_count": 0,
      "outputs": []
    },
    {
      "cell_type": "code",
      "metadata": {
        "id": "Vd9ymWmVGYa0",
        "colab_type": "code",
        "colab": {}
      },
      "source": [
        "def SVM_Training(data_dict):\n",
        "  i=1\n",
        "  global weight\n",
        "  global bias\n",
        "  length_Wvector = {}\n",
        "  transform = [[1,1],[-1,1],[-1,-1],[1,-1]]\n",
        "\n",
        "  b_step_size = 2\n",
        "  b_multiple = 5\n",
        "  w_optimum = max_feature_value*0.5\n",
        "\n",
        "  for lrate in learning_rate:\n",
        "    weight= np.array([w_optimum,w_optimum])\n",
        "    optimized=False\n",
        "    while not optimized:\n",
        "      for b in np.arange(-1*(max_feature_value*b_step_size), max_feature_value*b_step_size, lrate*b_multiple):\n",
        "        for transformation in transform:\n",
        "          w_t = weight*transformation\n",
        "\n",
        "          correctly_classified=True\n",
        "\n",
        "          for yi in data_dict:\n",
        "            for xi in data_dict[yi]:\n",
        "              if yi*(np.dot(w_t,xi)+b) < 1:\n",
        "                correctly_classified=False\n",
        "          \n",
        "          if correctly_classified:\n",
        "            length_Wvector[np.linalg.norm(w_t)] = [w_t,b]\n",
        "      \n",
        "      if weight[0] < 0:\n",
        "        optimized = True\n",
        "      else:\n",
        "        weight = weight - lrate\n",
        "    \n",
        "    norms = sorted([n for n in length_Wvector])\n",
        "\n",
        "    minimum_wlength = length_Wvector[norms[0]]\n",
        "    weight = minimum_wlength[0]\n",
        "    bias = minimum_wlength[1]\n",
        "\n",
        "    w_optimum = weight[0]+lrate*2"
      ],
      "execution_count": 0,
      "outputs": []
    },
    {
      "cell_type": "code",
      "metadata": {
        "id": "ZOseIhi0KNVc",
        "colab_type": "code",
        "colab": {}
      },
      "source": [
        "SVM_Training(data_dict)"
      ],
      "execution_count": 0,
      "outputs": []
    },
    {
      "cell_type": "code",
      "metadata": {
        "id": "IxgdYyhbYM-4",
        "colab_type": "code",
        "colab": {}
      },
      "source": [
        "def hyperplane_value(x,w,b,v):\n",
        "  return (-w[0]*x-b+v)/w[1]"
      ],
      "execution_count": 0,
      "outputs": []
    },
    {
      "cell_type": "code",
      "metadata": {
        "id": "9uA_STYyKSNi",
        "colab_type": "code",
        "colab": {
          "base_uri": "https://localhost:8080/",
          "height": 265
        },
        "outputId": "8e8b6569-f56b-4c43-998c-b256c5ab5aa9"
      },
      "source": [
        "colors = {1:'r', -1:'b'}\n",
        "fig=plt.figure()\n",
        "ax=fig.add_subplot(1,1,1)\n",
        "\n",
        "\n",
        "plt.scatter(X1[:,1],X1[:,2],marker='o', c=y)\n",
        "datarange = (min_feature_value*0.9,max_feature_value*1.)\n",
        "hyp_x_min = datarange[0]\n",
        "hyp_x_max = datarange[1]\n",
        "\n",
        "psv1= hyperplane_value(hyp_x_min,weight,bias,1)\n",
        "psv2 = hyperplane_value(hyp_x_max,weight,bias,1)\n",
        "ax.plot([hyp_x_min,hyp_x_max],[psv1,psv2],'k')\n",
        "\n",
        "nsv1= hyperplane_value(hyp_x_min,weight,bias,-1)\n",
        "nsv2 = hyperplane_value(hyp_x_max,weight,bias,-1)\n",
        "ax.plot([hyp_x_min,hyp_x_max],[nsv1,nsv2],'k')\n",
        "\n",
        "db1= hyperplane_value(hyp_x_min,weight,bias,0)\n",
        "db2 = hyperplane_value(hyp_x_max,weight,bias,0)\n",
        "ax.plot([hyp_x_min,hyp_x_max],[db1,db2],'b--')\n",
        "\n",
        "plt.axis([-5,10,-12,-1])\n",
        "plt.show()"
      ],
      "execution_count": 35,
      "outputs": [
        {
          "output_type": "display_data",
          "data": {
            "image/png": "[encoded data removed]",
            "text/plain": [
              "<Figure size 432x288 with 1 Axes>"
            ]
          },
          "metadata": {
            "tags": []
          }
        }
      ]
    },
    {
      "cell_type": "code",
      "metadata": {
        "id": "-LvnZk1JZsbh",
        "colab_type": "code",
        "colab": {}
      },
      "source": [
        ""
      ],
      "execution_count": 0,
      "outputs": []
    }
  ]
}